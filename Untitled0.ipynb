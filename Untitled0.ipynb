{
  "nbformat": 4,
  "nbformat_minor": 0,
  "metadata": {
    "colab": {
      "name": "Untitled0.ipynb",
      "version": "0.3.2",
      "provenance": [],
      "include_colab_link": true
    },
    "kernelspec": {
      "name": "python3",
      "display_name": "Python 3"
    }
  },
  "cells": [
    {
      "cell_type": "markdown",
      "metadata": {
        "id": "view-in-github",
        "colab_type": "text"
      },
      "source": [
        "<a href=\"https://colab.research.google.com/github/vineeth122/HELLOWORLD/blob/master/Untitled0.ipynb\" target=\"_parent\"><img src=\"https://colab.research.google.com/assets/colab-badge.svg\" alt=\"Open In Colab\"/></a>"
      ]
    },
    {
      "cell_type": "code",
      "metadata": {
        "id": "7AMe7A4zCHqa",
        "colab_type": "code",
        "colab": {}
      },
      "source": [
        "import requests\n",
        "from bs4 import BeautifulSoup\n",
        "\n",
        "ins_page='https://www.datacamp.com/instructors?all=true'\n",
        "ins_resp=requests.get(ins_page)\n",
        "ins_link_sel='.instructor-block__description .instructor-block__link' \n",
        "instructor_name_selector = '.instructor-block__name'  \n",
        "sp=BeautifulSoup(ins_resp.text,'lxml')\n",
        "ins_url=[url['href'] for url in sp.select(ins_link_sel)]\n",
        "ins_names=[name.text.strip() for name in sp.select(instructor_name_selector)]\n",
        "ins_url=['https://www.datacamp.com' + url for url in ins_url]"
      ],
      "execution_count": 0,
      "outputs": []
    },
    {
      "cell_type": "code",
      "metadata": {
        "id": "NfBVAKmDS9A9",
        "colab_type": "code",
        "outputId": "b97b03d9-17bd-48c2-f4a9-578b27ace21a",
        "colab": {
          "base_uri": "https://localhost:8080/",
          "height": 204
        }
      },
      "source": [
        "import pandas as pd\n",
        "ins_df=pd.DataFrame({'name':ins_names,'url':ins_url})\n",
        "ins_df.head()"
      ],
      "execution_count": 348,
      "outputs": [
        {
          "output_type": "execute_result",
          "data": {
            "text/html": [
              "<div>\n",
              "<style scoped>\n",
              "    .dataframe tbody tr th:only-of-type {\n",
              "        vertical-align: middle;\n",
              "    }\n",
              "\n",
              "    .dataframe tbody tr th {\n",
              "        vertical-align: top;\n",
              "    }\n",
              "\n",
              "    .dataframe thead th {\n",
              "        text-align: right;\n",
              "    }\n",
              "</style>\n",
              "<table border=\"1\" class=\"dataframe\">\n",
              "  <thead>\n",
              "    <tr style=\"text-align: right;\">\n",
              "      <th></th>\n",
              "      <th>name</th>\n",
              "      <th>url</th>\n",
              "    </tr>\n",
              "  </thead>\n",
              "  <tbody>\n",
              "    <tr>\n",
              "      <th>0</th>\n",
              "      <td>Filip Schouwenaars</td>\n",
              "      <td>https://www.datacamp.com/instructors/filipsch</td>\n",
              "    </tr>\n",
              "    <tr>\n",
              "      <th>1</th>\n",
              "      <td>Jonathan Cornelissen</td>\n",
              "      <td>https://www.datacamp.com/instructors/jonathana...</td>\n",
              "    </tr>\n",
              "    <tr>\n",
              "      <th>2</th>\n",
              "      <td>Nick Carchedi</td>\n",
              "      <td>https://www.datacamp.com/instructors/nickyc</td>\n",
              "    </tr>\n",
              "    <tr>\n",
              "      <th>3</th>\n",
              "      <td>Hugo Bowne-Anderson</td>\n",
              "      <td>https://www.datacamp.com/instructors/hugobowne</td>\n",
              "    </tr>\n",
              "    <tr>\n",
              "      <th>4</th>\n",
              "      <td>Team Anaconda</td>\n",
              "      <td>https://www.datacamp.com/instructors/team-anac...</td>\n",
              "    </tr>\n",
              "  </tbody>\n",
              "</table>\n",
              "</div>"
            ],
            "text/plain": [
              "                   name                                                url\n",
              "0    Filip Schouwenaars      https://www.datacamp.com/instructors/filipsch\n",
              "1  Jonathan Cornelissen  https://www.datacamp.com/instructors/jonathana...\n",
              "2         Nick Carchedi        https://www.datacamp.com/instructors/nickyc\n",
              "3   Hugo Bowne-Anderson     https://www.datacamp.com/instructors/hugobowne\n",
              "4         Team Anaconda  https://www.datacamp.com/instructors/team-anac..."
            ]
          },
          "metadata": {
            "tags": []
          },
          "execution_count": 348
        }
      ]
    },
    {
      "cell_type": "code",
      "metadata": {
        "id": "jiMpTnAoXE8_",
        "colab_type": "code",
        "colab": {}
      },
      "source": [
        "col_names=['Campaign', 'Ad Group', 'Keyword', 'Criterion Type']\n",
        "\n",
        "words = ['course', 'courses', 'learn', 'data science', 'data camp', 'datacamp']\n",
        "\n",
        "match_types = ['Exact', 'Phrase', 'Broad']\n",
        "\n",
        "\n",
        "# for ins_nam in ins_df['name']:\n",
        "#   for wor in words:\n",
        "#     for mat in match_types:\n",
        "#       if mat=='Exact':\n",
        "#         instructor_keywords.append(ins_nam + ' '+wor)\n",
        "            \n",
        "#       elif mat=='Phrase':\n",
        "#         instructor_keywords.append(ins_nam + ' ' +wor)\n",
        "        \n",
        "#       else:\n",
        "#         instructor_keywords.append('+'+' +'.join(ins_nam.split()) + ' +'+ wor)\n",
        "#       campaign.append('SEM_instructors')\n",
        "#       criterion.append(mat)  \n",
        "#       ad_group.append(ins_nam)\n",
        "# for ins_nam in ins_df['name']:\n",
        "#   for wor in words:\n",
        "#     for mat in match_types:\n",
        "#       if mat=='Exact':\n",
        "#         instructor_keywords.append(wor+ ' ' +ins_nam )\n",
        "            \n",
        "#       elif mat=='Phrase':\n",
        "#         instructor_keywords.append(wor+ ' ' +ins_nam)\n",
        "        \n",
        "#       else:\n",
        "#         instructor_keywords.append('+'+wor+' +'.join(ins_nam.split()))\n",
        "#       campaign.append('SEM_instructors')\n",
        "#       criterion.append(mat)  \n",
        "#       ad_group.append(ins_nam)\n",
        "        \n",
        "        \n",
        "      \n",
        "\n"
      ],
      "execution_count": 0,
      "outputs": []
    },
    {
      "cell_type": "code",
      "metadata": {
        "id": "nOdc128ipwsv",
        "colab_type": "code",
        "colab": {}
      },
      "source": [
        "def ins_df1(ins_names,words,camp,col_names=['Campaign', 'Ad Group', 'Keyword', 'Criterion Type'],match_types = ['Exact', 'Phrase', 'Broad']):\n",
        "  instructor_keywords=[]\n",
        "  campaign=[]\n",
        "  criterion=[]\n",
        "  ad_group=[]\n",
        "  for ins_nam in ins_names:\n",
        "    for wor in words:\n",
        "      for mat in match_types:\n",
        "        if mat=='Exact':\n",
        "          instructor_keywords.append(ins_nam + ' '+wor)\n",
        "\n",
        "        elif mat=='Phrase':\n",
        "          instructor_keywords.append(ins_nam + ' ' +wor)\n",
        "\n",
        "        else:\n",
        "          instructor_keywords.append('+'+' +'.join(ins_nam.split()) + ' +'+ wor)\n",
        "        campaign.append(camp)\n",
        "        criterion.append(mat)  \n",
        "        ad_group.append(ins_nam)\n",
        "  for ins_nam in ins_names:\n",
        "    for wor in words:\n",
        "      for mat in match_types:\n",
        "        if mat=='Exact':\n",
        "          instructor_keywords.append(wor+ ' ' +ins_nam )\n",
        "\n",
        "        elif mat=='Phrase':\n",
        "          instructor_keywords.append(wor+ ' ' +ins_nam)\n",
        "\n",
        "        else:\n",
        "          instructor_keywords.append('+'+wor+' +'.join(ins_nam.split()))\n",
        "        campaign.append(camp)\n",
        "        criterion.append(mat)  \n",
        "        ad_group.append(ins_nam)\n",
        "  ad_df=pd.DataFrame({'Campaign':campaign,'Ad Group':ad_group,'Keyword':instructor_keywords,'Criterion Type':criterion})        \n",
        "  \n",
        "  return ad_df"
      ],
      "execution_count": 0,
      "outputs": []
    },
    {
      "cell_type": "code",
      "metadata": {
        "id": "Cz4_64SS3ejf",
        "colab_type": "code",
        "colab": {}
      },
      "source": [
        "ad_df=ins_df1(ins_df['name'],words,'SEM_instructors')\n"
      ],
      "execution_count": 0,
      "outputs": []
    },
    {
      "cell_type": "code",
      "metadata": {
        "id": "ZlsLmUUEnLXb",
        "colab_type": "code",
        "colab": {
          "base_uri": "https://localhost:8080/",
          "height": 221
        },
        "outputId": "2c2a9986-2b96-41d5-95df-36817fed2b02"
      },
      "source": [
        "topics = ['R', 'Python', 'SQL', 'Git', 'Shell']  # listed on the /courses page\n",
        "keywords = ['data science', 'programming', 'analytics', 'data analysis', 'machine learning',\n",
        "            'deep learning', 'financial analysis', 'data viz', 'visualization', 'data visualization',\n",
        "            'learn', 'course', 'courses', 'education', 'data import', 'data cleaning', \n",
        "            'data manipulation', 'probability', 'stats', 'statistics', 'course', 'courses',\n",
        "           'learn', 'education', 'tutorial']  # @marketing_team: this list can / should be refined or \n",
        "                                              # expanded based on the strategy and how specific the \n",
        "                                              # targeting needs to be\n",
        "tech_keywords = ins_df1(topics, keywords, camp='SEM_Technologies')\n",
        "print('total keywords:', tech_keywords.shape[0])\n",
        "tech_keywords.head()"
      ],
      "execution_count": 352,
      "outputs": [
        {
          "output_type": "stream",
          "text": [
            "total keywords: 750\n"
          ],
          "name": "stdout"
        },
        {
          "output_type": "execute_result",
          "data": {
            "text/html": [
              "<div>\n",
              "<style scoped>\n",
              "    .dataframe tbody tr th:only-of-type {\n",
              "        vertical-align: middle;\n",
              "    }\n",
              "\n",
              "    .dataframe tbody tr th {\n",
              "        vertical-align: top;\n",
              "    }\n",
              "\n",
              "    .dataframe thead th {\n",
              "        text-align: right;\n",
              "    }\n",
              "</style>\n",
              "<table border=\"1\" class=\"dataframe\">\n",
              "  <thead>\n",
              "    <tr style=\"text-align: right;\">\n",
              "      <th></th>\n",
              "      <th>Campaign</th>\n",
              "      <th>Ad Group</th>\n",
              "      <th>Keyword</th>\n",
              "      <th>Criterion Type</th>\n",
              "    </tr>\n",
              "  </thead>\n",
              "  <tbody>\n",
              "    <tr>\n",
              "      <th>0</th>\n",
              "      <td>SEM_Technologies</td>\n",
              "      <td>R</td>\n",
              "      <td>R data science</td>\n",
              "      <td>Exact</td>\n",
              "    </tr>\n",
              "    <tr>\n",
              "      <th>1</th>\n",
              "      <td>SEM_Technologies</td>\n",
              "      <td>R</td>\n",
              "      <td>R data science</td>\n",
              "      <td>Phrase</td>\n",
              "    </tr>\n",
              "    <tr>\n",
              "      <th>2</th>\n",
              "      <td>SEM_Technologies</td>\n",
              "      <td>R</td>\n",
              "      <td>+R +data science</td>\n",
              "      <td>Broad</td>\n",
              "    </tr>\n",
              "    <tr>\n",
              "      <th>3</th>\n",
              "      <td>SEM_Technologies</td>\n",
              "      <td>R</td>\n",
              "      <td>R programming</td>\n",
              "      <td>Exact</td>\n",
              "    </tr>\n",
              "    <tr>\n",
              "      <th>4</th>\n",
              "      <td>SEM_Technologies</td>\n",
              "      <td>R</td>\n",
              "      <td>R programming</td>\n",
              "      <td>Phrase</td>\n",
              "    </tr>\n",
              "  </tbody>\n",
              "</table>\n",
              "</div>"
            ],
            "text/plain": [
              "           Campaign Ad Group           Keyword Criterion Type\n",
              "0  SEM_Technologies        R    R data science          Exact\n",
              "1  SEM_Technologies        R    R data science         Phrase\n",
              "2  SEM_Technologies        R  +R +data science          Broad\n",
              "3  SEM_Technologies        R     R programming          Exact\n",
              "4  SEM_Technologies        R     R programming         Phrase"
            ]
          },
          "metadata": {
            "tags": []
          },
          "execution_count": 352
        }
      ]
    },
    {
      "cell_type": "code",
      "metadata": {
        "id": "sjbzdLVKBBbX",
        "colab_type": "code",
        "colab": {}
      },
      "source": [
        "courses_page = 'https://www.datacamp.com/courses/all'\n",
        "course_link_selector = '.courses__explore-list .course-block'\n",
        "\n",
        "course_resp = requests.get(courses_page)\n",
        "soup = BeautifulSoup(course_resp.text, 'lxml')\n",
        "course_urls=[sp.contents[1]['href'] for sp in soup.select(course_link_selector)]\n",
        "course_urls=['https://www.datacamp.com'+url for url in course_urls]\n",
        "course_names=[sp.h4.text for sp in soup.select(course_link_selector) ]"
      ],
      "execution_count": 0,
      "outputs": []
    },
    {
      "cell_type": "code",
      "metadata": {
        "id": "lG1lERHdOVql",
        "colab_type": "code",
        "colab": {
          "base_uri": "https://localhost:8080/",
          "height": 221
        },
        "outputId": "1bd84d8c-4fb8-40bd-fce4-bd953b65641d"
      },
      "source": [
        "course_df = pd.DataFrame({\n",
        "    'name': course_names,\n",
        "    'url': course_urls\n",
        "})\n",
        "course_df['name_clean'] = course_df.name.str.replace('\\(.*\\)', '').str.strip()  # remove (part x)\n",
        "print('total keywords:', course_df.shape[0])\n",
        "course_df.head()"
      ],
      "execution_count": 354,
      "outputs": [
        {
          "output_type": "stream",
          "text": [
            "total keywords: 259\n"
          ],
          "name": "stdout"
        },
        {
          "output_type": "execute_result",
          "data": {
            "text/html": [
              "<div>\n",
              "<style scoped>\n",
              "    .dataframe tbody tr th:only-of-type {\n",
              "        vertical-align: middle;\n",
              "    }\n",
              "\n",
              "    .dataframe tbody tr th {\n",
              "        vertical-align: top;\n",
              "    }\n",
              "\n",
              "    .dataframe thead th {\n",
              "        text-align: right;\n",
              "    }\n",
              "</style>\n",
              "<table border=\"1\" class=\"dataframe\">\n",
              "  <thead>\n",
              "    <tr style=\"text-align: right;\">\n",
              "      <th></th>\n",
              "      <th>name</th>\n",
              "      <th>url</th>\n",
              "      <th>name_clean</th>\n",
              "    </tr>\n",
              "  </thead>\n",
              "  <tbody>\n",
              "    <tr>\n",
              "      <th>0</th>\n",
              "      <td>Introduction to R</td>\n",
              "      <td>https://www.datacamp.com/courses/free-introduc...</td>\n",
              "      <td>Introduction to R</td>\n",
              "    </tr>\n",
              "    <tr>\n",
              "      <th>1</th>\n",
              "      <td>Data Analysis in R, the data.table Way</td>\n",
              "      <td>https://www.datacamp.com/courses/data-table-da...</td>\n",
              "      <td>Data Analysis in R, the data.table Way</td>\n",
              "    </tr>\n",
              "    <tr>\n",
              "      <th>2</th>\n",
              "      <td>Data Manipulation in R with dplyr</td>\n",
              "      <td>https://www.datacamp.com/courses/dplyr-data-ma...</td>\n",
              "      <td>Data Manipulation in R with dplyr</td>\n",
              "    </tr>\n",
              "    <tr>\n",
              "      <th>3</th>\n",
              "      <td>Data Visualization in R with ggvis</td>\n",
              "      <td>https://www.datacamp.com/courses/ggvis-data-vi...</td>\n",
              "      <td>Data Visualization in R with ggvis</td>\n",
              "    </tr>\n",
              "    <tr>\n",
              "      <th>4</th>\n",
              "      <td>Reporting with R Markdown</td>\n",
              "      <td>https://www.datacamp.com/courses/reporting-wit...</td>\n",
              "      <td>Reporting with R Markdown</td>\n",
              "    </tr>\n",
              "  </tbody>\n",
              "</table>\n",
              "</div>"
            ],
            "text/plain": [
              "                                     name  ...                              name_clean\n",
              "0                       Introduction to R  ...                       Introduction to R\n",
              "1  Data Analysis in R, the data.table Way  ...  Data Analysis in R, the data.table Way\n",
              "2       Data Manipulation in R with dplyr  ...       Data Manipulation in R with dplyr\n",
              "3      Data Visualization in R with ggvis  ...      Data Visualization in R with ggvis\n",
              "4               Reporting with R Markdown  ...               Reporting with R Markdown\n",
              "\n",
              "[5 rows x 3 columns]"
            ]
          },
          "metadata": {
            "tags": []
          },
          "execution_count": 354
        }
      ]
    },
    {
      "cell_type": "code",
      "metadata": {
        "id": "sunaNIcQDf5t",
        "colab_type": "code",
        "colab": {
          "base_uri": "https://localhost:8080/",
          "height": 376
        },
        "outputId": "0275dff3-b7b4-4dd0-9371-604d60fcf963"
      },
      "source": [
        "keywords = ['', 'learn', 'course', 'courses', 'tutorial', 'education']\n",
        "course_keywords = ins_df1(course_df['name_clean'], keywords, camp='SEM_Courses')\n",
        "print('total keywords:', course_keywords.shape[0])\n",
        "course_keywords.head(10)"
      ],
      "execution_count": 355,
      "outputs": [
        {
          "output_type": "stream",
          "text": [
            "total keywords: 9324\n"
          ],
          "name": "stdout"
        },
        {
          "output_type": "execute_result",
          "data": {
            "text/html": [
              "<div>\n",
              "<style scoped>\n",
              "    .dataframe tbody tr th:only-of-type {\n",
              "        vertical-align: middle;\n",
              "    }\n",
              "\n",
              "    .dataframe tbody tr th {\n",
              "        vertical-align: top;\n",
              "    }\n",
              "\n",
              "    .dataframe thead th {\n",
              "        text-align: right;\n",
              "    }\n",
              "</style>\n",
              "<table border=\"1\" class=\"dataframe\">\n",
              "  <thead>\n",
              "    <tr style=\"text-align: right;\">\n",
              "      <th></th>\n",
              "      <th>Campaign</th>\n",
              "      <th>Ad Group</th>\n",
              "      <th>Keyword</th>\n",
              "      <th>Criterion Type</th>\n",
              "    </tr>\n",
              "  </thead>\n",
              "  <tbody>\n",
              "    <tr>\n",
              "      <th>0</th>\n",
              "      <td>SEM_Courses</td>\n",
              "      <td>Introduction to R</td>\n",
              "      <td>Introduction to R</td>\n",
              "      <td>Exact</td>\n",
              "    </tr>\n",
              "    <tr>\n",
              "      <th>1</th>\n",
              "      <td>SEM_Courses</td>\n",
              "      <td>Introduction to R</td>\n",
              "      <td>Introduction to R</td>\n",
              "      <td>Phrase</td>\n",
              "    </tr>\n",
              "    <tr>\n",
              "      <th>2</th>\n",
              "      <td>SEM_Courses</td>\n",
              "      <td>Introduction to R</td>\n",
              "      <td>+Introduction +to +R +</td>\n",
              "      <td>Broad</td>\n",
              "    </tr>\n",
              "    <tr>\n",
              "      <th>3</th>\n",
              "      <td>SEM_Courses</td>\n",
              "      <td>Introduction to R</td>\n",
              "      <td>Introduction to R learn</td>\n",
              "      <td>Exact</td>\n",
              "    </tr>\n",
              "    <tr>\n",
              "      <th>4</th>\n",
              "      <td>SEM_Courses</td>\n",
              "      <td>Introduction to R</td>\n",
              "      <td>Introduction to R learn</td>\n",
              "      <td>Phrase</td>\n",
              "    </tr>\n",
              "    <tr>\n",
              "      <th>5</th>\n",
              "      <td>SEM_Courses</td>\n",
              "      <td>Introduction to R</td>\n",
              "      <td>+Introduction +to +R +learn</td>\n",
              "      <td>Broad</td>\n",
              "    </tr>\n",
              "    <tr>\n",
              "      <th>6</th>\n",
              "      <td>SEM_Courses</td>\n",
              "      <td>Introduction to R</td>\n",
              "      <td>Introduction to R course</td>\n",
              "      <td>Exact</td>\n",
              "    </tr>\n",
              "    <tr>\n",
              "      <th>7</th>\n",
              "      <td>SEM_Courses</td>\n",
              "      <td>Introduction to R</td>\n",
              "      <td>Introduction to R course</td>\n",
              "      <td>Phrase</td>\n",
              "    </tr>\n",
              "    <tr>\n",
              "      <th>8</th>\n",
              "      <td>SEM_Courses</td>\n",
              "      <td>Introduction to R</td>\n",
              "      <td>+Introduction +to +R +course</td>\n",
              "      <td>Broad</td>\n",
              "    </tr>\n",
              "    <tr>\n",
              "      <th>9</th>\n",
              "      <td>SEM_Courses</td>\n",
              "      <td>Introduction to R</td>\n",
              "      <td>Introduction to R courses</td>\n",
              "      <td>Exact</td>\n",
              "    </tr>\n",
              "  </tbody>\n",
              "</table>\n",
              "</div>"
            ],
            "text/plain": [
              "      Campaign           Ad Group                       Keyword Criterion Type\n",
              "0  SEM_Courses  Introduction to R            Introduction to R           Exact\n",
              "1  SEM_Courses  Introduction to R            Introduction to R          Phrase\n",
              "2  SEM_Courses  Introduction to R        +Introduction +to +R +          Broad\n",
              "3  SEM_Courses  Introduction to R       Introduction to R learn          Exact\n",
              "4  SEM_Courses  Introduction to R       Introduction to R learn         Phrase\n",
              "5  SEM_Courses  Introduction to R   +Introduction +to +R +learn          Broad\n",
              "6  SEM_Courses  Introduction to R      Introduction to R course          Exact\n",
              "7  SEM_Courses  Introduction to R      Introduction to R course         Phrase\n",
              "8  SEM_Courses  Introduction to R  +Introduction +to +R +course          Broad\n",
              "9  SEM_Courses  Introduction to R     Introduction to R courses          Exact"
            ]
          },
          "metadata": {
            "tags": []
          },
          "execution_count": 355
        }
      ]
    },
    {
      "cell_type": "code",
      "metadata": {
        "id": "0PVbovp3GpLT",
        "colab_type": "code",
        "colab": {}
      },
      "source": [
        "skills_url='https://www.datacamp.com/tracks/skill'\n",
        "skill_resp=requests.get(skills_url)\n",
        "sp=BeautifulSoup(skill_resp.text,'lxml')\n",
        "skill_selec='.shim'\n",
        "skill_url=[sk['href'] for sk in sp.select(skill_selec)[2:]]\n",
        "skill_names=[sk.split('/')[2] for sk in skill_url]\n",
        "skill_urls=['https://www.datacamp.com' + url for url in skill_url]\n"
      ],
      "execution_count": 0,
      "outputs": []
    },
    {
      "cell_type": "code",
      "metadata": {
        "id": "wmH0kyppA7hq",
        "colab_type": "code",
        "colab": {}
      },
      "source": [
        "career_page = 'https://www.datacamp.com/tracks/career'\n",
        "career_link_selector = ' .shim'\n",
        "\n",
        "career_resp = requests.get(career_page)\n",
        "career_soup = BeautifulSoup(career_resp.text, 'lxml')\n",
        "\n",
        "career_urls = [link['href'] for link in career_soup.select(career_link_selector)[2:]] \n",
        "\n",
        "career_names = [career.replace('/tracks/', '').replace('-', ' ') for career in career_urls]\n",
        "career_urls = ['https://www.datacamp.com' + url for url in career_urls]\n"
      ],
      "execution_count": 0,
      "outputs": []
    },
    {
      "cell_type": "code",
      "metadata": {
        "id": "vTVsJhGCB-dk",
        "colab_type": "code",
        "colab": {}
      },
      "source": [
        "tracks_df = pd.DataFrame({\n",
        "    'name': skill_names + career_names,\n",
        "    'url': skill_urls + career_urls\n",
        "})\n",
        "tracks_df['name'] = [x.title() for x in tracks_df['name']]"
      ],
      "execution_count": 0,
      "outputs": []
    },
    {
      "cell_type": "code",
      "metadata": {
        "id": "BSfmDvxBCrec",
        "colab_type": "code",
        "colab": {
          "base_uri": "https://localhost:8080/",
          "height": 221
        },
        "outputId": "320ef2bd-1feb-4e86-c8b0-3a7f6eb6173b"
      },
      "source": [
        "tracks_keywords = ins_df1(tracks_df['name'], keywords, camp='SEM_Tracks')\n",
        "print('total keywords:', tracks_keywords.shape[0])\n",
        "tracks_keywords.head()"
      ],
      "execution_count": 359,
      "outputs": [
        {
          "output_type": "stream",
          "text": [
            "total keywords: 2448\n"
          ],
          "name": "stdout"
        },
        {
          "output_type": "execute_result",
          "data": {
            "text/html": [
              "<div>\n",
              "<style scoped>\n",
              "    .dataframe tbody tr th:only-of-type {\n",
              "        vertical-align: middle;\n",
              "    }\n",
              "\n",
              "    .dataframe tbody tr th {\n",
              "        vertical-align: top;\n",
              "    }\n",
              "\n",
              "    .dataframe thead th {\n",
              "        text-align: right;\n",
              "    }\n",
              "</style>\n",
              "<table border=\"1\" class=\"dataframe\">\n",
              "  <thead>\n",
              "    <tr style=\"text-align: right;\">\n",
              "      <th></th>\n",
              "      <th>Campaign</th>\n",
              "      <th>Ad Group</th>\n",
              "      <th>Keyword</th>\n",
              "      <th>Criterion Type</th>\n",
              "    </tr>\n",
              "  </thead>\n",
              "  <tbody>\n",
              "    <tr>\n",
              "      <th>0</th>\n",
              "      <td>SEM_Tracks</td>\n",
              "      <td>R-Programming</td>\n",
              "      <td>R-Programming</td>\n",
              "      <td>Exact</td>\n",
              "    </tr>\n",
              "    <tr>\n",
              "      <th>1</th>\n",
              "      <td>SEM_Tracks</td>\n",
              "      <td>R-Programming</td>\n",
              "      <td>R-Programming</td>\n",
              "      <td>Phrase</td>\n",
              "    </tr>\n",
              "    <tr>\n",
              "      <th>2</th>\n",
              "      <td>SEM_Tracks</td>\n",
              "      <td>R-Programming</td>\n",
              "      <td>+R-Programming +</td>\n",
              "      <td>Broad</td>\n",
              "    </tr>\n",
              "    <tr>\n",
              "      <th>3</th>\n",
              "      <td>SEM_Tracks</td>\n",
              "      <td>R-Programming</td>\n",
              "      <td>R-Programming learn</td>\n",
              "      <td>Exact</td>\n",
              "    </tr>\n",
              "    <tr>\n",
              "      <th>4</th>\n",
              "      <td>SEM_Tracks</td>\n",
              "      <td>R-Programming</td>\n",
              "      <td>R-Programming learn</td>\n",
              "      <td>Phrase</td>\n",
              "    </tr>\n",
              "  </tbody>\n",
              "</table>\n",
              "</div>"
            ],
            "text/plain": [
              "     Campaign       Ad Group              Keyword Criterion Type\n",
              "0  SEM_Tracks  R-Programming       R-Programming           Exact\n",
              "1  SEM_Tracks  R-Programming       R-Programming          Phrase\n",
              "2  SEM_Tracks  R-Programming     +R-Programming +          Broad\n",
              "3  SEM_Tracks  R-Programming  R-Programming learn          Exact\n",
              "4  SEM_Tracks  R-Programming  R-Programming learn         Phrase"
            ]
          },
          "metadata": {
            "tags": []
          },
          "execution_count": 359
        }
      ]
    },
    {
      "cell_type": "code",
      "metadata": {
        "id": "0V06BIJaGlMR",
        "colab_type": "code",
        "colab": {
          "base_uri": "https://localhost:8080/",
          "height": 204
        },
        "outputId": "5fcaa5cd-dc04-473a-a711-4ea4093609b5"
      },
      "source": [
        "tech_keywords.head()"
      ],
      "execution_count": 360,
      "outputs": [
        {
          "output_type": "execute_result",
          "data": {
            "text/html": [
              "<div>\n",
              "<style scoped>\n",
              "    .dataframe tbody tr th:only-of-type {\n",
              "        vertical-align: middle;\n",
              "    }\n",
              "\n",
              "    .dataframe tbody tr th {\n",
              "        vertical-align: top;\n",
              "    }\n",
              "\n",
              "    .dataframe thead th {\n",
              "        text-align: right;\n",
              "    }\n",
              "</style>\n",
              "<table border=\"1\" class=\"dataframe\">\n",
              "  <thead>\n",
              "    <tr style=\"text-align: right;\">\n",
              "      <th></th>\n",
              "      <th>Campaign</th>\n",
              "      <th>Ad Group</th>\n",
              "      <th>Keyword</th>\n",
              "      <th>Criterion Type</th>\n",
              "    </tr>\n",
              "  </thead>\n",
              "  <tbody>\n",
              "    <tr>\n",
              "      <th>0</th>\n",
              "      <td>SEM_Technologies</td>\n",
              "      <td>R</td>\n",
              "      <td>R data science</td>\n",
              "      <td>Exact</td>\n",
              "    </tr>\n",
              "    <tr>\n",
              "      <th>1</th>\n",
              "      <td>SEM_Technologies</td>\n",
              "      <td>R</td>\n",
              "      <td>R data science</td>\n",
              "      <td>Phrase</td>\n",
              "    </tr>\n",
              "    <tr>\n",
              "      <th>2</th>\n",
              "      <td>SEM_Technologies</td>\n",
              "      <td>R</td>\n",
              "      <td>+R +data science</td>\n",
              "      <td>Broad</td>\n",
              "    </tr>\n",
              "    <tr>\n",
              "      <th>3</th>\n",
              "      <td>SEM_Technologies</td>\n",
              "      <td>R</td>\n",
              "      <td>R programming</td>\n",
              "      <td>Exact</td>\n",
              "    </tr>\n",
              "    <tr>\n",
              "      <th>4</th>\n",
              "      <td>SEM_Technologies</td>\n",
              "      <td>R</td>\n",
              "      <td>R programming</td>\n",
              "      <td>Phrase</td>\n",
              "    </tr>\n",
              "  </tbody>\n",
              "</table>\n",
              "</div>"
            ],
            "text/plain": [
              "           Campaign Ad Group           Keyword Criterion Type\n",
              "0  SEM_Technologies        R    R data science          Exact\n",
              "1  SEM_Technologies        R    R data science         Phrase\n",
              "2  SEM_Technologies        R  +R +data science          Broad\n",
              "3  SEM_Technologies        R     R programming          Exact\n",
              "4  SEM_Technologies        R     R programming         Phrase"
            ]
          },
          "metadata": {
            "tags": []
          },
          "execution_count": 360
        }
      ]
    },
    {
      "cell_type": "code",
      "metadata": {
        "id": "aDSOt3seG7-2",
        "colab_type": "code",
        "colab": {}
      },
      "source": [
        "full_df=pd.concat([ad_df,tech_keywords,course_keywords,tracks_keywords])"
      ],
      "execution_count": 0,
      "outputs": []
    },
    {
      "cell_type": "code",
      "metadata": {
        "id": "E8HcQ40cHL-L",
        "colab_type": "code",
        "colab": {
          "base_uri": "https://localhost:8080/",
          "height": 68
        },
        "outputId": "65cd16b3-b560-4cb6-d377-1adddca49493"
      },
      "source": [
        "print(full_df.shape[0])\n",
        "print('Total Campaigns:',len(set(full_df.Campaign)))\n",
        "print('total ad groups:', len(set(full_df['Ad Group'])))"
      ],
      "execution_count": 362,
      "outputs": [
        {
          "output_type": "stream",
          "text": [
            "20298\n",
            "Total Campaigns: 4\n",
            "total ad groups: 498\n"
          ],
          "name": "stdout"
        }
      ]
    },
    {
      "cell_type": "code",
      "metadata": {
        "id": "np3OW68UOXcI",
        "colab_type": "code",
        "colab": {}
      },
      "source": [
        "# ad1=pd.Series([ad for ad in full_df['Ad Group'].unique()])\n",
        "# ad1[ad_group_len > 30]"
      ],
      "execution_count": 0,
      "outputs": []
    },
    {
      "cell_type": "code",
      "metadata": {
        "id": "B6KYh6WBHCu9",
        "colab_type": "code",
        "colab": {
          "base_uri": "https://localhost:8080/",
          "height": 413
        },
        "outputId": "a1fd7bb1-1f24-4a09-ef9d-2964b5dabeb0"
      },
      "source": [
        "%matplotlib inline\n",
        "import matplotlib.pyplot as plt\n",
        "ad_group_len=pd.Series([len(ad) for ad in full_df['Ad Group'].unique()])\n",
        "long_adgroups = sum(ad_group_len > 30)\n",
        "plt.figure(figsize=(9,6))\n",
        "plt.hist(ad_group_len, rwidth=0.9, bins=50)\n",
        "plt.vlines(x=30, ymin=0, ymax=10, colors='red')\n",
        "plt.title(str(long_adgroups) + ' ad group name lenghts > 30 (don\\'t fit in a headline)',  fontsize=17)\n",
        "plt.xlabel('Ad Group Name Lengths', fontsize=15)\n",
        "plt.ylabel('Count', fontsize=15)\n",
        "plt.yticks(range(11))\n",
        "plt.xticks(range(0, 51, 5))\n",
        "plt.grid(alpha=0.5)\n",
        "plt.show()"
      ],
      "execution_count": 364,
      "outputs": [
        {
          "output_type": "display_data",
          "data": {
            "image/png": "[encoded data removed]",
            "text/plain": [
              "<Figure size 648x432 with 1 Axes>"
            ]
          },
          "metadata": {
            "tags": []
          }
        }
      ]
    },
    {
      "cell_type": "code",
      "metadata": {
        "id": "Lf1nVXMXqn3O",
        "colab_type": "code",
        "colab": {
          "base_uri": "https://localhost:8080/",
          "height": 204
        },
        "outputId": "9af2311b-aa2b-41e9-8e07-cebb435816b2"
      },
      "source": [
        "full_df.Campaign.unique()\n",
        "course_df['Campaign']='SEM_courses'\n",
        "course_df.rename(columns={'name':'old_name','name_clean':'name'},inplace=True)\n",
        "course_df.head()"
      ],
      "execution_count": 365,
      "outputs": [
        {
          "output_type": "execute_result",
          "data": {
            "text/html": [
              "<div>\n",
              "<style scoped>\n",
              "    .dataframe tbody tr th:only-of-type {\n",
              "        vertical-align: middle;\n",
              "    }\n",
              "\n",
              "    .dataframe tbody tr th {\n",
              "        vertical-align: top;\n",
              "    }\n",
              "\n",
              "    .dataframe thead th {\n",
              "        text-align: right;\n",
              "    }\n",
              "</style>\n",
              "<table border=\"1\" class=\"dataframe\">\n",
              "  <thead>\n",
              "    <tr style=\"text-align: right;\">\n",
              "      <th></th>\n",
              "      <th>old_name</th>\n",
              "      <th>url</th>\n",
              "      <th>name</th>\n",
              "      <th>Campaign</th>\n",
              "    </tr>\n",
              "  </thead>\n",
              "  <tbody>\n",
              "    <tr>\n",
              "      <th>0</th>\n",
              "      <td>Introduction to R</td>\n",
              "      <td>https://www.datacamp.com/courses/free-introduc...</td>\n",
              "      <td>Introduction to R</td>\n",
              "      <td>SEM_courses</td>\n",
              "    </tr>\n",
              "    <tr>\n",
              "      <th>1</th>\n",
              "      <td>Data Analysis in R, the data.table Way</td>\n",
              "      <td>https://www.datacamp.com/courses/data-table-da...</td>\n",
              "      <td>Data Analysis in R, the data.table Way</td>\n",
              "      <td>SEM_courses</td>\n",
              "    </tr>\n",
              "    <tr>\n",
              "      <th>2</th>\n",
              "      <td>Data Manipulation in R with dplyr</td>\n",
              "      <td>https://www.datacamp.com/courses/dplyr-data-ma...</td>\n",
              "      <td>Data Manipulation in R with dplyr</td>\n",
              "      <td>SEM_courses</td>\n",
              "    </tr>\n",
              "    <tr>\n",
              "      <th>3</th>\n",
              "      <td>Data Visualization in R with ggvis</td>\n",
              "      <td>https://www.datacamp.com/courses/ggvis-data-vi...</td>\n",
              "      <td>Data Visualization in R with ggvis</td>\n",
              "      <td>SEM_courses</td>\n",
              "    </tr>\n",
              "    <tr>\n",
              "      <th>4</th>\n",
              "      <td>Reporting with R Markdown</td>\n",
              "      <td>https://www.datacamp.com/courses/reporting-wit...</td>\n",
              "      <td>Reporting with R Markdown</td>\n",
              "      <td>SEM_courses</td>\n",
              "    </tr>\n",
              "  </tbody>\n",
              "</table>\n",
              "</div>"
            ],
            "text/plain": [
              "                                 old_name  ...     Campaign\n",
              "0                       Introduction to R  ...  SEM_courses\n",
              "1  Data Analysis in R, the data.table Way  ...  SEM_courses\n",
              "2       Data Manipulation in R with dplyr  ...  SEM_courses\n",
              "3      Data Visualization in R with ggvis  ...  SEM_courses\n",
              "4               Reporting with R Markdown  ...  SEM_courses\n",
              "\n",
              "[5 rows x 4 columns]"
            ]
          },
          "metadata": {
            "tags": []
          },
          "execution_count": 365
        }
      ]
    },
    {
      "cell_type": "code",
      "metadata": {
        "id": "3AqFM9OofB_I",
        "colab_type": "code",
        "colab": {}
      },
      "source": [
        "ins_df['Campaign']='SEM_Instructors'\n",
        "tracks_df['Campaign'] = 'SEM_Tracks'\n",
        "tech_domain = 'https://www.datacamp.com/courses/tech:'\n",
        "tech_domain_list = []\n",
        "for tech in ['R', 'Python', 'SQL', 'Git', 'Shell']:\n",
        "    tech_domain_list.append((tech, tech_domain + tech))\n",
        "tech_df = pd.DataFrame.from_records(tech_domain_list, columns=['name', 'url'])\n",
        "tech_df['Campaign'] = 'SEM_Technologies'\n"
      ],
      "execution_count": 0,
      "outputs": []
    },
    {
      "cell_type": "code",
      "metadata": {
        "id": "Lefm8cWGZf0_",
        "colab_type": "code",
        "colab": {
          "base_uri": "https://localhost:8080/",
          "height": 357
        },
        "outputId": "6060adc6-ebeb-499d-f6e3-ef4828ac5498"
      },
      "source": [
        "full_ads_df=pd.concat([course_df[['Campaign','url','name']],ins_df,tracks_df,tech_df],ignore_index=True)\n",
        "full_ads_df = full_ads_df.rename(columns={'name': 'Ad Group', 'url': 'Final URL'})\n",
        "print('total rows:', full_ads_df.shape[0])\n",
        "n_adgroups = full_ads_df.shape[0]\n",
        "full_ads_df.head()"
      ],
      "execution_count": 367,
      "outputs": [
        {
          "output_type": "stream",
          "text": [
            "total rows: 548\n"
          ],
          "name": "stdout"
        },
        {
          "output_type": "stream",
          "text": [
            "/usr/local/lib/python3.6/dist-packages/ipykernel_launcher.py:1: FutureWarning: Sorting because non-concatenation axis is not aligned. A future version\n",
            "of pandas will change to not sort by default.\n",
            "\n",
            "To accept the future behavior, pass 'sort=False'.\n",
            "\n",
            "To retain the current behavior and silence the warning, pass 'sort=True'.\n",
            "\n",
            "  \"\"\"Entry point for launching an IPython kernel.\n"
          ],
          "name": "stderr"
        },
        {
          "output_type": "execute_result",
          "data": {
            "text/html": [
              "<div>\n",
              "<style scoped>\n",
              "    .dataframe tbody tr th:only-of-type {\n",
              "        vertical-align: middle;\n",
              "    }\n",
              "\n",
              "    .dataframe tbody tr th {\n",
              "        vertical-align: top;\n",
              "    }\n",
              "\n",
              "    .dataframe thead th {\n",
              "        text-align: right;\n",
              "    }\n",
              "</style>\n",
              "<table border=\"1\" class=\"dataframe\">\n",
              "  <thead>\n",
              "    <tr style=\"text-align: right;\">\n",
              "      <th></th>\n",
              "      <th>Campaign</th>\n",
              "      <th>Ad Group</th>\n",
              "      <th>Final URL</th>\n",
              "    </tr>\n",
              "  </thead>\n",
              "  <tbody>\n",
              "    <tr>\n",
              "      <th>0</th>\n",
              "      <td>SEM_courses</td>\n",
              "      <td>Introduction to R</td>\n",
              "      <td>https://www.datacamp.com/courses/free-introduc...</td>\n",
              "    </tr>\n",
              "    <tr>\n",
              "      <th>1</th>\n",
              "      <td>SEM_courses</td>\n",
              "      <td>Data Analysis in R, the data.table Way</td>\n",
              "      <td>https://www.datacamp.com/courses/data-table-da...</td>\n",
              "    </tr>\n",
              "    <tr>\n",
              "      <th>2</th>\n",
              "      <td>SEM_courses</td>\n",
              "      <td>Data Manipulation in R with dplyr</td>\n",
              "      <td>https://www.datacamp.com/courses/dplyr-data-ma...</td>\n",
              "    </tr>\n",
              "    <tr>\n",
              "      <th>3</th>\n",
              "      <td>SEM_courses</td>\n",
              "      <td>Data Visualization in R with ggvis</td>\n",
              "      <td>https://www.datacamp.com/courses/ggvis-data-vi...</td>\n",
              "    </tr>\n",
              "    <tr>\n",
              "      <th>4</th>\n",
              "      <td>SEM_courses</td>\n",
              "      <td>Reporting with R Markdown</td>\n",
              "      <td>https://www.datacamp.com/courses/reporting-wit...</td>\n",
              "    </tr>\n",
              "  </tbody>\n",
              "</table>\n",
              "</div>"
            ],
            "text/plain": [
              "      Campaign  ...                                          Final URL\n",
              "0  SEM_courses  ...  https://www.datacamp.com/courses/free-introduc...\n",
              "1  SEM_courses  ...  https://www.datacamp.com/courses/data-table-da...\n",
              "2  SEM_courses  ...  https://www.datacamp.com/courses/dplyr-data-ma...\n",
              "3  SEM_courses  ...  https://www.datacamp.com/courses/ggvis-data-vi...\n",
              "4  SEM_courses  ...  https://www.datacamp.com/courses/reporting-wit...\n",
              "\n",
              "[5 rows x 3 columns]"
            ]
          },
          "metadata": {
            "tags": []
          },
          "execution_count": 367
        }
      ]
    },
    {
      "cell_type": "code",
      "metadata": {
        "id": "jw2JaOe4d6Va",
        "colab_type": "code",
        "colab": {
          "base_uri": "https://localhost:8080/",
          "height": 34
        },
        "outputId": "d6912917-28a5-4f98-f23b-f5a2fa62f9a0"
      },
      "source": [
        "full_ads_df.shape"
      ],
      "execution_count": 368,
      "outputs": [
        {
          "output_type": "execute_result",
          "data": {
            "text/plain": [
              "(548, 3)"
            ]
          },
          "metadata": {
            "tags": []
          },
          "execution_count": 368
        }
      ]
    },
    {
      "cell_type": "code",
      "metadata": {
        "id": "6XNRyUDTcAS_",
        "colab_type": "code",
        "colab": {
          "base_uri": "https://localhost:8080/",
          "height": 345
        },
        "outputId": "629510cb-57fb-4139-ef8b-59482ad61341"
      },
      "source": [
        "full_ads_df = full_ads_df.iloc[[x  for x in range(n_adgroups) for i in range(3)], :] \n",
        "print('total rows:', full_ads_df.shape[0])\n",
        "full_ads_df.head(9)\n"
      ],
      "execution_count": 369,
      "outputs": [
        {
          "output_type": "stream",
          "text": [
            "total rows: 1644\n"
          ],
          "name": "stdout"
        },
        {
          "output_type": "execute_result",
          "data": {
            "text/html": [
              "<div>\n",
              "<style scoped>\n",
              "    .dataframe tbody tr th:only-of-type {\n",
              "        vertical-align: middle;\n",
              "    }\n",
              "\n",
              "    .dataframe tbody tr th {\n",
              "        vertical-align: top;\n",
              "    }\n",
              "\n",
              "    .dataframe thead th {\n",
              "        text-align: right;\n",
              "    }\n",
              "</style>\n",
              "<table border=\"1\" class=\"dataframe\">\n",
              "  <thead>\n",
              "    <tr style=\"text-align: right;\">\n",
              "      <th></th>\n",
              "      <th>Campaign</th>\n",
              "      <th>Ad Group</th>\n",
              "      <th>Final URL</th>\n",
              "    </tr>\n",
              "  </thead>\n",
              "  <tbody>\n",
              "    <tr>\n",
              "      <th>0</th>\n",
              "      <td>SEM_courses</td>\n",
              "      <td>Introduction to R</td>\n",
              "      <td>https://www.datacamp.com/courses/free-introduc...</td>\n",
              "    </tr>\n",
              "    <tr>\n",
              "      <th>0</th>\n",
              "      <td>SEM_courses</td>\n",
              "      <td>Introduction to R</td>\n",
              "      <td>https://www.datacamp.com/courses/free-introduc...</td>\n",
              "    </tr>\n",
              "    <tr>\n",
              "      <th>0</th>\n",
              "      <td>SEM_courses</td>\n",
              "      <td>Introduction to R</td>\n",
              "      <td>https://www.datacamp.com/courses/free-introduc...</td>\n",
              "    </tr>\n",
              "    <tr>\n",
              "      <th>1</th>\n",
              "      <td>SEM_courses</td>\n",
              "      <td>Data Analysis in R, the data.table Way</td>\n",
              "      <td>https://www.datacamp.com/courses/data-table-da...</td>\n",
              "    </tr>\n",
              "    <tr>\n",
              "      <th>1</th>\n",
              "      <td>SEM_courses</td>\n",
              "      <td>Data Analysis in R, the data.table Way</td>\n",
              "      <td>https://www.datacamp.com/courses/data-table-da...</td>\n",
              "    </tr>\n",
              "    <tr>\n",
              "      <th>1</th>\n",
              "      <td>SEM_courses</td>\n",
              "      <td>Data Analysis in R, the data.table Way</td>\n",
              "      <td>https://www.datacamp.com/courses/data-table-da...</td>\n",
              "    </tr>\n",
              "    <tr>\n",
              "      <th>2</th>\n",
              "      <td>SEM_courses</td>\n",
              "      <td>Data Manipulation in R with dplyr</td>\n",
              "      <td>https://www.datacamp.com/courses/dplyr-data-ma...</td>\n",
              "    </tr>\n",
              "    <tr>\n",
              "      <th>2</th>\n",
              "      <td>SEM_courses</td>\n",
              "      <td>Data Manipulation in R with dplyr</td>\n",
              "      <td>https://www.datacamp.com/courses/dplyr-data-ma...</td>\n",
              "    </tr>\n",
              "    <tr>\n",
              "      <th>2</th>\n",
              "      <td>SEM_courses</td>\n",
              "      <td>Data Manipulation in R with dplyr</td>\n",
              "      <td>https://www.datacamp.com/courses/dplyr-data-ma...</td>\n",
              "    </tr>\n",
              "  </tbody>\n",
              "</table>\n",
              "</div>"
            ],
            "text/plain": [
              "      Campaign  ...                                          Final URL\n",
              "0  SEM_courses  ...  https://www.datacamp.com/courses/free-introduc...\n",
              "0  SEM_courses  ...  https://www.datacamp.com/courses/free-introduc...\n",
              "0  SEM_courses  ...  https://www.datacamp.com/courses/free-introduc...\n",
              "1  SEM_courses  ...  https://www.datacamp.com/courses/data-table-da...\n",
              "1  SEM_courses  ...  https://www.datacamp.com/courses/data-table-da...\n",
              "1  SEM_courses  ...  https://www.datacamp.com/courses/data-table-da...\n",
              "2  SEM_courses  ...  https://www.datacamp.com/courses/dplyr-data-ma...\n",
              "2  SEM_courses  ...  https://www.datacamp.com/courses/dplyr-data-ma...\n",
              "2  SEM_courses  ...  https://www.datacamp.com/courses/dplyr-data-ma...\n",
              "\n",
              "[9 rows x 3 columns]"
            ]
          },
          "metadata": {
            "tags": []
          },
          "execution_count": 369
        }
      ]
    },
    {
      "cell_type": "code",
      "metadata": {
        "id": "jPtUhoJxeHT-",
        "colab_type": "code",
        "colab": {}
      },
      "source": [
        "import numpy as np\n",
        "Description = [\n",
        "    'Learn Directly From the Top Experts in the Field. 20% off Annual Subcriptions',\n",
        "    'Be Ahead of the Curve, Master Data Science Skills. $29 / Month. Cancel Anytime',\n",
        "    'Choose From a Wide Variety of Topics Tuaght by the Best in the World. Start Now'   \n",
        "]\n",
        "# Description = [x for i in range(full_ads_df.shape[0]) for x in Description ]\n",
        "# full_ads_df['Description'] = Description\n",
        "# full_ads_df.head()\n",
        "Description=[x for i in range(n_adgroups) for x in Description ]\n",
        "full_ads_df['Description']=Description\n"
      ],
      "execution_count": 0,
      "outputs": []
    },
    {
      "cell_type": "code",
      "metadata": {
        "id": "Ef8muow6eIK5",
        "colab_type": "code",
        "colab": {}
      },
      "source": [
        "benefits = [\n",
        "    'Boost Your Data Science Career',\n",
        "    'Stand Out From the Crowd',\n",
        "    'Tackle Complex Questions'    \n",
        "]"
      ],
      "execution_count": 0,
      "outputs": []
    },
    {
      "cell_type": "code",
      "metadata": {
        "id": "6K69k_pee0NA",
        "colab_type": "code",
        "colab": {}
      },
      "source": [
        "def split_string(string, splits=2, max_len=60):\n",
        "    \"\"\"Split `string` into `splits` words, each shorter than `max_len` / `splits`\"\"\"\n",
        "    if len(string) < max_len / splits:\n",
        "        return string, ''\n",
        "    str_words = string.split(' ')\n",
        "    result = ''\n",
        "    for i, word in enumerate(str_words):\n",
        "        if len(result + ' ' + word) <= max_len / splits:\n",
        "            result += word + ' '\n",
        "        else:\n",
        "            break\n",
        "    spaces = result.strip().count(' ')\n",
        "    result2 = string[string[len(result):].index(word) + len(result):]\n",
        "    return result.strip(), result2\n",
        "    "
      ],
      "execution_count": 0,
      "outputs": []
    },
    {
      "cell_type": "code",
      "metadata": {
        "id": "i1SNXdJxeZl_",
        "colab_type": "code",
        "colab": {}
      },
      "source": [
        "benefits=[x for i in range(n_adgroups) for x in benefits ]\n",
        "headlines=[split_string(string) for string in full_ads_df['Ad Group']]\n"
      ],
      "execution_count": 0,
      "outputs": []
    },
    {
      "cell_type": "code",
      "metadata": {
        "id": "m7HkuVc7lfxb",
        "colab_type": "code",
        "colab": {
          "base_uri": "https://localhost:8080/",
          "height": 498
        },
        "outputId": "28a6a280-3ccb-4386-e55c-d253fa9916ee"
      },
      "source": [
        "full_ads_df['headline 1']=[x[0] for x in headlines]\n",
        "full_ads_df['Headline 2'] = [x[1] if x[1] else benefits[i] for i, x in enumerate(headlines)]\n",
        "print('total ads:', full_ads_df.shape[0])\n",
        "full_ads_df.head(9)"
      ],
      "execution_count": 376,
      "outputs": [
        {
          "output_type": "stream",
          "text": [
            "total ads: 1644\n"
          ],
          "name": "stdout"
        },
        {
          "output_type": "execute_result",
          "data": {
            "text/html": [
              "<div>\n",
              "<style scoped>\n",
              "    .dataframe tbody tr th:only-of-type {\n",
              "        vertical-align: middle;\n",
              "    }\n",
              "\n",
              "    .dataframe tbody tr th {\n",
              "        vertical-align: top;\n",
              "    }\n",
              "\n",
              "    .dataframe thead th {\n",
              "        text-align: right;\n",
              "    }\n",
              "</style>\n",
              "<table border=\"1\" class=\"dataframe\">\n",
              "  <thead>\n",
              "    <tr style=\"text-align: right;\">\n",
              "      <th></th>\n",
              "      <th>Campaign</th>\n",
              "      <th>Ad Group</th>\n",
              "      <th>Final URL</th>\n",
              "      <th>Description</th>\n",
              "      <th>headline 1</th>\n",
              "      <th>Headline 2</th>\n",
              "    </tr>\n",
              "  </thead>\n",
              "  <tbody>\n",
              "    <tr>\n",
              "      <th>0</th>\n",
              "      <td>SEM_courses</td>\n",
              "      <td>Introduction to R</td>\n",
              "      <td>https://www.datacamp.com/courses/free-introduc...</td>\n",
              "      <td>Learn Directly From the Top Experts in the Fie...</td>\n",
              "      <td>Introduction to R</td>\n",
              "      <td>Boost Your Data Science Career</td>\n",
              "    </tr>\n",
              "    <tr>\n",
              "      <th>0</th>\n",
              "      <td>SEM_courses</td>\n",
              "      <td>Introduction to R</td>\n",
              "      <td>https://www.datacamp.com/courses/free-introduc...</td>\n",
              "      <td>Be Ahead of the Curve, Master Data Science Ski...</td>\n",
              "      <td>Introduction to R</td>\n",
              "      <td>Stand Out From the Crowd</td>\n",
              "    </tr>\n",
              "    <tr>\n",
              "      <th>0</th>\n",
              "      <td>SEM_courses</td>\n",
              "      <td>Introduction to R</td>\n",
              "      <td>https://www.datacamp.com/courses/free-introduc...</td>\n",
              "      <td>Choose From a Wide Variety of Topics Tuaght by...</td>\n",
              "      <td>Introduction to R</td>\n",
              "      <td>Tackle Complex Questions</td>\n",
              "    </tr>\n",
              "    <tr>\n",
              "      <th>1</th>\n",
              "      <td>SEM_courses</td>\n",
              "      <td>Data Analysis in R, the data.table Way</td>\n",
              "      <td>https://www.datacamp.com/courses/data-table-da...</td>\n",
              "      <td>Learn Directly From the Top Experts in the Fie...</td>\n",
              "      <td>Data Analysis in R, the</td>\n",
              "      <td>data.table Way</td>\n",
              "    </tr>\n",
              "    <tr>\n",
              "      <th>1</th>\n",
              "      <td>SEM_courses</td>\n",
              "      <td>Data Analysis in R, the data.table Way</td>\n",
              "      <td>https://www.datacamp.com/courses/data-table-da...</td>\n",
              "      <td>Be Ahead of the Curve, Master Data Science Ski...</td>\n",
              "      <td>Data Analysis in R, the</td>\n",
              "      <td>data.table Way</td>\n",
              "    </tr>\n",
              "    <tr>\n",
              "      <th>1</th>\n",
              "      <td>SEM_courses</td>\n",
              "      <td>Data Analysis in R, the data.table Way</td>\n",
              "      <td>https://www.datacamp.com/courses/data-table-da...</td>\n",
              "      <td>Choose From a Wide Variety of Topics Tuaght by...</td>\n",
              "      <td>Data Analysis in R, the</td>\n",
              "      <td>data.table Way</td>\n",
              "    </tr>\n",
              "    <tr>\n",
              "      <th>2</th>\n",
              "      <td>SEM_courses</td>\n",
              "      <td>Data Manipulation in R with dplyr</td>\n",
              "      <td>https://www.datacamp.com/courses/dplyr-data-ma...</td>\n",
              "      <td>Learn Directly From the Top Experts in the Fie...</td>\n",
              "      <td>Data Manipulation in R with</td>\n",
              "      <td>dplyr</td>\n",
              "    </tr>\n",
              "    <tr>\n",
              "      <th>2</th>\n",
              "      <td>SEM_courses</td>\n",
              "      <td>Data Manipulation in R with dplyr</td>\n",
              "      <td>https://www.datacamp.com/courses/dplyr-data-ma...</td>\n",
              "      <td>Be Ahead of the Curve, Master Data Science Ski...</td>\n",
              "      <td>Data Manipulation in R with</td>\n",
              "      <td>dplyr</td>\n",
              "    </tr>\n",
              "    <tr>\n",
              "      <th>2</th>\n",
              "      <td>SEM_courses</td>\n",
              "      <td>Data Manipulation in R with dplyr</td>\n",
              "      <td>https://www.datacamp.com/courses/dplyr-data-ma...</td>\n",
              "      <td>Choose From a Wide Variety of Topics Tuaght by...</td>\n",
              "      <td>Data Manipulation in R with</td>\n",
              "      <td>dplyr</td>\n",
              "    </tr>\n",
              "  </tbody>\n",
              "</table>\n",
              "</div>"
            ],
            "text/plain": [
              "      Campaign  ...                      Headline 2\n",
              "0  SEM_courses  ...  Boost Your Data Science Career\n",
              "0  SEM_courses  ...        Stand Out From the Crowd\n",
              "0  SEM_courses  ...        Tackle Complex Questions\n",
              "1  SEM_courses  ...                  data.table Way\n",
              "1  SEM_courses  ...                  data.table Way\n",
              "1  SEM_courses  ...                  data.table Way\n",
              "2  SEM_courses  ...                           dplyr\n",
              "2  SEM_courses  ...                           dplyr\n",
              "2  SEM_courses  ...                           dplyr\n",
              "\n",
              "[9 rows x 6 columns]"
            ]
          },
          "metadata": {
            "tags": []
          },
          "execution_count": 376
        }
      ]
    }
  ]
}